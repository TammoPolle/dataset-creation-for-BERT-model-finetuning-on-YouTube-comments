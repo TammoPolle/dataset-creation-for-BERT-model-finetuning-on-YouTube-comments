{
 "cells": [
  {
   "cell_type": "code",
   "id": "88eda4d197dd3762",
   "metadata": {
    "collapsed": true,
    "ExecuteTime": {
     "end_time": "2024-06-15T08:19:32.380618Z",
     "start_time": "2024-06-15T08:19:22.494326Z"
    }
   },
   "source": [
    "import torch\n",
    "import tensorflow as tf\n",
    "import warnings\n",
    "import os"
   ],
   "execution_count": 1,
   "outputs": []
  },
  {
   "metadata": {
    "ExecuteTime": {
     "end_time": "2024-06-15T08:19:32.386405Z",
     "start_time": "2024-06-15T08:19:32.380618Z"
    }
   },
   "cell_type": "code",
   "source": [
    "warnings.simplefilter(action='ignore', category=FutureWarning)\n",
    "os.environ['CUDA_LAUNCH_BLOCKING'] = \"1\"\n",
    "os.environ['TORCH_USE_CUDA_DSA'] = \"1\"\n",
    "os.environ['TF_ENABLE_ONEDNN_OPTS'] = \"0\""
   ],
   "id": "d4314a4006d2a6dd",
   "execution_count": 2,
   "outputs": []
  },
  {
   "metadata": {
    "ExecuteTime": {
     "end_time": "2024-06-15T08:19:32.392441Z",
     "start_time": "2024-06-15T08:19:32.386405Z"
    }
   },
   "cell_type": "code",
   "source": [
    "#  Define experimental specifics:\n",
    "#  Check before run!\n",
    "source_path = \"E:\\\\research\\\\experiments\\\\combined\\\\bertweet_50_all\\\\\"\n",
    "output_path = \"E:\\\\research\\\\experiments\\\\combined\\\\bertweet_50_all\\\\output\"\n",
    "#  512 for bert-base and 128 for bertweet\n",
    "max_len = 128\n",
    "#  for classification (specific authors + 1 dump for rest) - actual all-set 745 labels\n",
    "number_of_labels = 50\n",
    "#  training epochs: lower when overfitting! (2 or 4, 30 in bertweet paper)\n",
    "epochs = 8\n",
    "#  random seed (original: 66)\n",
    "seed_val = 66"
   ],
   "id": "d8ce65da44fdceaa",
   "execution_count": 3,
   "outputs": []
  },
  {
   "metadata": {
    "ExecuteTime": {
     "end_time": "2024-06-15T08:19:33.217681Z",
     "start_time": "2024-06-15T08:19:32.393472Z"
    }
   },
   "cell_type": "code",
   "source": [
    "device_name = tf.test.gpu_device_name()\n",
    "with open(source_path + \"comparative_data.txt\", 'a', encoding='utf-8') as cf:\n",
    "    cf.write('=== Experiment' + source_path[source_path.rfind('bert'):] + '===\\n')\n",
    "if torch.cuda.is_available():\n",
    "    # Tell PyTorch to use the GPU.    \n",
    "    device = torch.device(\"cuda\")\n",
    "    print('There are %d GPU(s) available.' % torch.cuda.device_count())\n",
    "    print('We will use the GPU:', torch.cuda.get_device_name(0))\n",
    "    with open(source_path + \"comparative_data.txt\", 'a', encoding='utf-8') as cf:\n",
    "        cf.write('Used device: {}\\n'.format(torch.cuda.get_device_name(0)))\n",
    "else:\n",
    "    print('No GPU available, using the CPU instead.')\n",
    "    device = torch.device(\"cpu\")\n",
    "    with open(source_path + \"comparative_data.txt\", 'a', encoding='utf-8') as cf:\n",
    "        # noinspection PyStringFormat\n",
    "        cf.write('Used device: {:,}\\n'.format(\"cpu\"))"
   ],
   "id": "43e2c899a7fcf7c8",
   "execution_count": 4,
   "outputs": []
  },
  {
   "metadata": {
    "ExecuteTime": {
     "end_time": "2024-06-15T08:19:33.341605Z",
     "start_time": "2024-06-15T08:19:33.217681Z"
    }
   },
   "cell_type": "code",
   "source": [
    "import pandas as pd\n",
    "train_df = pd.read_csv(source_path + \"training_set.csv\", sep='\\t', encoding='utf-8')\n",
    "print('Number of training sentences: {:,}\\n'.format(train_df.shape[0]))\n",
    "with open(source_path + \"comparative_data.txt\", 'a', encoding='utf-8') as cf:\n",
    "    cf.write('Number of comments: {:,}\\n'.format(train_df.shape[0]))\n",
    "train_df.sample(10)\n",
    "sentences = train_df.Comment.values\n",
    "labels = train_df.Author.values"
   ],
   "id": "90001927e1092298",
   "execution_count": 5,
   "outputs": []
  },
  {
   "metadata": {
    "ExecuteTime": {
     "end_time": "2024-06-15T08:19:45.210616Z",
     "start_time": "2024-06-15T08:19:33.341605Z"
    }
   },
   "cell_type": "code",
   "source": [
    "from transformers import AutoTokenizer\n",
    "tokenizer = AutoTokenizer.from_pretrained('vinai/bertweet-base', do_lower_case=True)\n",
    "with open(source_path + \"comparative_data.txt\", 'a', encoding='utf-8') as cf:\n",
    "    cf.write('Used tokenizer: {}\\n'.format(\"AutoTokenizer.from_pretrained('vinai/bertweet-base', do_lower_case=True)\"))\n",
    "print(' Original: ', sentences[0])\n",
    "print('Tokenized: ', tokenizer.tokenize(sentences[0]))\n",
    "print('Token IDs: ', tokenizer.convert_tokens_to_ids(tokenizer.tokenize(sentences[0])))\n",
    "for sent in sentences:\n",
    "    input_ids = tokenizer.encode(str(sent), add_special_tokens=True)\n",
    "    max_len = max(max_len, len(input_ids))\n",
    "print('Max sentence length: ', max_len)\n",
    "with open(source_path + \"comparative_data.txt\", 'a', encoding='utf-8') as cf:\n",
    "    cf.write('Max tokens: {}\\n'.format(max_len))\n",
    "# Tokenize all the sentences and map the tokens to their word IDs.\n",
    "input_ids = []\n",
    "attention_masks = []\n",
    "for sent in sentences:\n",
    "    # `encode_plus` will:\n",
    "    #   (1) Tokenize the sentence.\n",
    "    #   (2) Prepend the `[CLS]` token to the start.\n",
    "    #   (3) Append the `[SEP]` token to the end.\n",
    "    #   (4) Map tokens to their IDs.\n",
    "    #   (5) Pad or truncate the sentence to `max_length`\n",
    "    #   (6) Create attention masks for [PAD] tokens.\n",
    "    encoded_dict = tokenizer.encode_plus(\n",
    "        str(sent),  # Sentence to encode.\n",
    "        add_special_tokens=True,  # Add '[CLS]' and '[SEP]'\n",
    "        max_length=max_len,  # Pad & truncate all sentences.\n",
    "        pad_to_max_length=True,\n",
    "        truncation=True,\n",
    "        return_attention_mask=True,  # Construct attn. masks.\n",
    "        return_tensors='pt',  # Return pytorch tensors.\n",
    "    )\n",
    "    # Add the encoded sentence to the list.    \n",
    "    input_ids.append(encoded_dict['input_ids'])\n",
    "    # And its attention mask (simply differentiates padding from non-padding).\n",
    "    attention_masks.append(encoded_dict['attention_mask'])\n",
    "input_ids = torch.cat(input_ids, dim=0)\n",
    "attention_masks = torch.cat(attention_masks, dim=0)\n",
    "labels = torch.tensor(labels)\n",
    "print('Original: ', sentences[1])\n",
    "print('Token IDs:', input_ids[1])"
   ],
   "id": "ad8d08bc657282e8",
   "execution_count": 6,
   "outputs": []
  },
  {
   "metadata": {
    "ExecuteTime": {
     "end_time": "2024-06-15T08:19:45.466648Z",
     "start_time": "2024-06-15T08:19:45.210616Z"
    }
   },
   "cell_type": "code",
   "source": [
    "from torch.utils.data import TensorDataset, random_split\n",
    "# Combine the training inputs into a TensorDataset.\n",
    "dataset = TensorDataset(input_ids, attention_masks, labels)\n",
    "# Create a 90-10 train-validation split.\n",
    "# Calculate the number of samples to include in each set.\n",
    "train_size = int(0.9 * len(dataset))\n",
    "val_size = len(dataset) - train_size\n",
    "# Divide the dataset by randomly selecting samples.\n",
    "train_dataset, val_dataset = random_split(dataset, [train_size, val_size])\n",
    "# Checking whether the distribution of target is consistent across both the sets\n",
    "label_temp_list = []\n",
    "for a, b, c in train_dataset:\n",
    "    label_temp_list.append(c)\n",
    "print('{:>5,} training samples'.format(train_size))\n",
    "with open(source_path + \"comparative_data.txt\", 'a', encoding='utf-8') as cf:\n",
    "    cf.write('Number of training comments: {}\\n'.format(train_size))\n",
    "label_temp_list = []\n",
    "for a, b, c in val_dataset:\n",
    "    label_temp_list.append(c)\n",
    "print('{:>5,} validation samples'.format(val_size))\n",
    "with open(source_path + \"comparative_data.txt\", 'a', encoding='utf-8') as cf:\n",
    "    cf.write('Number of validation comments: {}\\n'.format(val_size))"
   ],
   "id": "bd4ed4b1a69ef9e0",
   "execution_count": 7,
   "outputs": []
  },
  {
   "metadata": {
    "ExecuteTime": {
     "end_time": "2024-06-15T08:19:45.473550Z",
     "start_time": "2024-06-15T08:19:45.466648Z"
    }
   },
   "cell_type": "code",
   "source": [
    "from torch.utils.data import DataLoader, RandomSampler, SequentialSampler\n",
    "# For fine-tuning BERT on a specific task, the authors recommend a batch \n",
    "# size of 16 or 32.\n",
    "batch_size = 32\n",
    "with open(source_path + \"comparative_data.txt\", 'a', encoding='utf-8') as cf:\n",
    "    cf.write('Batch size for fine-tuning: {}\\n'.format(batch_size))\n",
    "# Create the DataLoaders for our training and validation sets.\n",
    "# We'll take training samples in random order. \n",
    "train_dataloader = DataLoader(\n",
    "    train_dataset,  # The training samples.\n",
    "    sampler=RandomSampler(train_dataset),  # Select batches randomly\n",
    "    batch_size=batch_size  # Trains with this batch size.\n",
    ")\n",
    "# For validation the order doesn't matter, so we'll just read them sequentially.\n",
    "validation_dataloader = DataLoader(\n",
    "    val_dataset,  # The validation samples.\n",
    "    sampler=SequentialSampler(val_dataset),  # Pull out batches sequentially.\n",
    "    batch_size=batch_size  # Evaluate with this batch size.\n",
    ")"
   ],
   "id": "72fdee5a015a0339",
   "execution_count": 8,
   "outputs": []
  },
  {
   "metadata": {
    "ExecuteTime": {
     "end_time": "2024-06-15T08:19:48.601124Z",
     "start_time": "2024-06-15T08:19:45.473550Z"
    }
   },
   "cell_type": "code",
   "source": [
    "from transformers import RobertaForSequenceClassification\n",
    "model = RobertaForSequenceClassification.from_pretrained(\"vinai/bertweet-base\", num_labels=number_of_labels, output_attentions=True, output_hidden_states=True)\n",
    "with open(source_path + \"comparative_data.txt\", 'a', encoding='utf-8') as cf:\n",
    "    cf.write('Operating model: {}\\n'.format(\n",
    "        'RobertaForSequenceClassification.from_pretrained(\"vinai/bertweet-base\", num_labels=number_of_labels, output_attentions=True, output_hidden_states=True)'))\n",
    "model.cuda()\n",
    "# Get all of model's parameters as a list of tuples.\n",
    "params = list(model.named_parameters())\n",
    "\n",
    "print('The BERT model has {:} different named parameters.\\n'.format(len(params)))\n",
    "print('==== Embedding Layer ====\\n')\n",
    "for p in params[0:5]:\n",
    "    print(\"{:<55} {:>12}\".format(p[0], str(tuple(p[1].size()))))\n",
    "print('\\n==== First Transformer ====\\n')\n",
    "for p in params[5:21]:\n",
    "    print(\"{:<55} {:>12}\".format(p[0], str(tuple(p[1].size()))))\n",
    "print('\\n==== Output Layer ====\\n')\n",
    "for p in params[-4:]:\n",
    "    print(\"{:<55} {:>12}\".format(p[0], str(tuple(p[1].size()))))\n",
    "# Note: AdamW is a class from the huggingface library (as opposed to pytorch) \n",
    "# I believe the 'W' stands for 'Weight Decay fix'"
   ],
   "id": "f0456d033650159",
   "execution_count": 9,
   "outputs": []
  },
  {
   "metadata": {
    "ExecuteTime": {
     "end_time": "2024-06-15T08:19:49.588027Z",
     "start_time": "2024-06-15T08:19:48.601124Z"
    }
   },
   "cell_type": "code",
   "source": [
    "optimizer = torch.optim.AdamW(model.parameters(),\n",
    "                              lr=5e-5,  # args.learning_rate - default is 5e-5, 1.e-5 in BERTweet paper\n",
    "                              eps=1e-8  # args.adam_epsilon  - default is 1e-8.\n",
    "                              )\n",
    "with open(source_path + \"comparative_data.txt\", 'a', encoding='utf-8') as cf:\n",
    "    cf.write('Optimizer: AdamW(model.parameters(), lr = 5e-5, eps = 1e-8)\\n')"
   ],
   "id": "41a7e56804048308",
   "execution_count": 10,
   "outputs": []
  },
  {
   "metadata": {
    "ExecuteTime": {
     "end_time": "2024-06-15T08:19:49.601643Z",
     "start_time": "2024-06-15T08:19:49.588027Z"
    }
   },
   "cell_type": "code",
   "source": [
    "from transformers import get_linear_schedule_with_warmup\n",
    "# Number of training epochs. The BERT authors recommend between 2 and 4. \n",
    "# We chose to run for 2,I have already seen that the model starts overfitting beyond 2 epochs\n",
    "# = 2  # 30 in BERTweet paper\n",
    "with open(source_path + \"comparative_data.txt\", 'a', encoding='utf-8') as cf:\n",
    "    cf.write('Epochs: {:,}\\n'.format(epochs))\n",
    "# Total number of training steps is [number of batches] x [number of epochs]. \n",
    "# (Note that this is not the same as the number of training samples).\n",
    "total_steps = len(train_dataloader) * epochs\n",
    "# Create the learning rate scheduler.\n",
    "scheduler = get_linear_schedule_with_warmup(optimizer,\n",
    "                                            num_warmup_steps=0,  # Default value in run_glue.py\n",
    "                                            num_training_steps=total_steps)"
   ],
   "id": "9e1a87dde37ab303",
   "execution_count": 11,
   "outputs": []
  },
  {
   "metadata": {
    "ExecuteTime": {
     "end_time": "2024-06-15T08:19:49.605904Z",
     "start_time": "2024-06-15T08:19:49.601643Z"
    }
   },
   "cell_type": "code",
   "source": [
    "# Function to calculate the accuracy of our predictions vs labels\n",
    "# noinspection PyShadowingNames\n",
    "def flat_accuracy(preds, labels):\n",
    "    pred_flat = np.argmax(preds, axis=1).flatten()\n",
    "    labels_flat = labels.flatten()\n",
    "    return np.sum(pred_flat == labels_flat) / len(labels_flat)"
   ],
   "id": "4d4a97b7480fed47",
   "execution_count": 12,
   "outputs": []
  },
  {
   "metadata": {
    "ExecuteTime": {
     "end_time": "2024-06-15T08:19:49.610818Z",
     "start_time": "2024-06-15T08:19:49.605904Z"
    }
   },
   "cell_type": "code",
   "source": [
    "import time\n",
    "import datetime\n",
    "# noinspection PyShadowingNames\n",
    "def format_time(elapsed):\n",
    "    # Round to the nearest second.\n",
    "    # noinspection PyRedundantParentheses\n",
    "    elapsed_rounded = int(round((elapsed)))\n",
    "    # Format as hh:mm:ss\n",
    "    return str(datetime.timedelta(seconds=elapsed_rounded))"
   ],
   "id": "42227cd86f3fd7c",
   "execution_count": 13,
   "outputs": []
  },
  {
   "metadata": {
    "ExecuteTime": {
     "end_time": "2024-06-15T08:43:50.453838Z",
     "start_time": "2024-06-15T08:19:49.610818Z"
    }
   },
   "cell_type": "code",
   "source": [
    "import random\n",
    "import numpy as np\n",
    "# This training code is based on the `run_glue.py` script here:\n",
    "# https://github.com/huggingface/transformers/blob/5bfcd0485ece086ebcbed2d008813037968a9e58/examples/run_glue.py#L128\n",
    "# Set the seed value all over the place to make this reproducible.\n",
    "#seed_val = 66\n",
    "random.seed(seed_val)\n",
    "np.random.seed(seed_val)\n",
    "torch.manual_seed(seed_val)\n",
    "torch.cuda.manual_seed_all(seed_val)\n",
    "# We'll store a number of quantities such as training and validation loss, \n",
    "# validation accuracy, and timings.\n",
    "training_stats = []\n",
    "# Measure the total training time for the whole run.\n",
    "total_t0 = time.time()\n",
    "# For each epoch...\n",
    "for epoch_i in range(0, epochs):\n",
    "    print(\"\")\n",
    "    print('======== Epoch {:} / {:} ========'.format(epoch_i + 1, epochs))\n",
    "    print('Training...')\n",
    "    # Measure how long the training epoch takes.\n",
    "    t0 = time.time()\n",
    "    # Reset the total loss for this epoch.\n",
    "    total_train_loss = 0\n",
    "    # Put the model into training mode. Don't be mislead--the call to \n",
    "    # `train` just changes the *mode*, it doesn't *perform* the training.\n",
    "    # `dropout` and `batchnorm` layers behave differently during training\n",
    "    # vs. test (source: https://stackoverflow.com/questions/51433378/what-does-model-train-do-in-pytorch)\n",
    "    model.train()\n",
    "    # For each batch of training data...\n",
    "    for step, batch in enumerate(train_dataloader):\n",
    "        # Progress update every 40 batches.\n",
    "        if step % 40 == 0 and not step == 0:\n",
    "            # Calculate elapsed time in minutes.\n",
    "            elapsed = format_time(time.time() - t0)\n",
    "            # Report progress.\n",
    "            print('  Batch {:>5,}  of  {:>5,}.    Elapsed: {:}.'.format(step, len(train_dataloader), elapsed))\n",
    "        # Unpack this training batch from our dataloader. \n",
    "        # As we unpack the batch, we'll also copy each tensor to the GPU using the \n",
    "        # `to` method.\n",
    "        # `batch` contains three pytorch tensors:\n",
    "        #   [0]: input ids \n",
    "        #   [1]: attention masks\n",
    "        #   [2]: labels \n",
    "        b_input_ids = batch[0].to(device)\n",
    "        b_input_mask = batch[1].to(device)\n",
    "        b_labels = batch[2].to(device)\n",
    "        # Always clear any previously calculated gradients before performing a\n",
    "        # backward pass. PyTorch doesn't do this automatically because \n",
    "        # accumulating the gradients is \"convenient while training RNNs\". \n",
    "        # (source: https://stackoverflow.com/questions/48001598/why-do-we-need-to-call-zero-grad-in-pytorch)\n",
    "        model.zero_grad()\n",
    "        # Perform a forward pass (evaluate the model on this training batch).\n",
    "        # The documentation for this `model` function is here: \n",
    "        # https://huggingface.co/transformers/v2.2.0/model_doc/bert.html#transformers.BertForSequenceClassification\n",
    "        # It returns different numbers of parameters depending on what arguments\n",
    "        # are given and what flags are set. For our usage here, it returns\n",
    "        # the loss (because we provided labels) and the \"logits\"--the model\n",
    "        # outputs prior to activation.\n",
    "        outputs = model(b_input_ids,\n",
    "                        token_type_ids=None,\n",
    "                        attention_mask=b_input_mask,\n",
    "                        labels=b_labels)\n",
    "        # Accumulate the training loss over all of the batches so that we can\n",
    "        # calculate the average loss at the end. `loss` is a Tensor containing a\n",
    "        # single value; the `.item()` function just returns the Python value \n",
    "        # from the tensor.\n",
    "        loss = outputs.loss\n",
    "        total_train_loss += loss.item()\n",
    "        # Perform a backward pass to calculate the gradients.\n",
    "        loss.backward()\n",
    "        # Clip the norm of the gradients to 1.0.\n",
    "        # This is to help prevent the \"exploding gradients\" problem.\n",
    "        torch.nn.utils.clip_grad_norm_(model.parameters(), 1.0)\n",
    "        # Update parameters and take a step using the computed gradient.\n",
    "        # The optimizer dictates the \"update rule\"--how the parameters are\n",
    "        # modified based on their gradients, the learning rate, etc.\n",
    "        optimizer.step()\n",
    "        # Update the learning rate.\n",
    "        scheduler.step()\n",
    "    # Calculate the average loss over all of the batches.\n",
    "    avg_train_loss = total_train_loss / len(train_dataloader)\n",
    "    # Measure how long this epoch took.\n",
    "    training_time = format_time(time.time() - t0)\n",
    "    print(\"\")\n",
    "    print(\"  Average training loss: {0:.2f}\".format(avg_train_loss))\n",
    "    print(\"  Training epoch took: {:}\".format(training_time))\n",
    "    # ========================================\n",
    "    #               Validation\n",
    "    # ========================================\n",
    "    # After the completion of each training epoch, measure our performance on\n",
    "    # our validation set.\n",
    "    print(\"\")\n",
    "    print(\"Running Validation...\")\n",
    "    t0 = time.time()\n",
    "    # Put the model in evaluation mode--the dropout layers behave differently\n",
    "    # during evaluation.\n",
    "    model.eval()\n",
    "    # Tracking variables \n",
    "    total_eval_accuracy = 0\n",
    "    total_eval_loss = 0\n",
    "    nb_eval_steps = 0\n",
    "    # Evaluate data for one epoch\n",
    "    for batch in validation_dataloader:\n",
    "        # Unpack this training batch from our dataloader. \n",
    "        #\n",
    "        # As we unpack the batch, we'll also copy each tensor to the GPU using \n",
    "        # the `to` method.\n",
    "        #\n",
    "        # `batch` contains three pytorch tensors:\n",
    "        #   [0]: input ids \n",
    "        #   [1]: attention masks\n",
    "        #   [2]: labels \n",
    "        b_input_ids = batch[0].to(device)\n",
    "        b_input_mask = batch[1].to(device)\n",
    "        b_labels = batch[2].to(device)\n",
    "        # Tell pytorch not to bother with constructing the compute graph during\n",
    "        # the forward pass, since this is only needed for backprop (training).\n",
    "        with torch.no_grad():\n",
    "            # Forward pass, calculate logit predictions.\n",
    "            # token_type_ids is the same as the \"segment ids\", which \n",
    "            # differentiates sentence 1 and 2 in 2-sentence tasks.\n",
    "            # Get the \"logits\" output by the model. The \"logits\" are the output\n",
    "            # values prior to applying an activation function like the softmax.\n",
    "            outputs = model(b_input_ids,\n",
    "                            token_type_ids=None,\n",
    "                            attention_mask=b_input_mask,\n",
    "                            labels=b_labels)\n",
    "            # Accumulate the validation loss.\n",
    "        CUDA_LAUNCH_BLOCKING = 1\n",
    "        loss = outputs.loss\n",
    "        total_eval_loss += loss.item()\n",
    "        # Move logits and labels to CPU\n",
    "        logits = outputs.logits\n",
    "        logits = logits.detach().cpu().numpy()\n",
    "        label_ids = b_labels.to('cpu').numpy()\n",
    "        # Calculate the accuracy for this batch of test sentences, and\n",
    "        # accumulate it over all batches.\n",
    "        total_eval_accuracy += flat_accuracy(logits, label_ids)\n",
    "        # Report the final accuracy for this validation run.\n",
    "    avg_val_accuracy = total_eval_accuracy / len(validation_dataloader)\n",
    "    print(\"  Accuracy: {0:.2f}\".format(avg_val_accuracy))\n",
    "    # Calculate the average loss over all of the batches.\n",
    "    avg_val_loss = total_eval_loss / len(validation_dataloader)\n",
    "    # Measure how long the validation run took.\n",
    "    validation_time = format_time(time.time() - t0)\n",
    "    print(\"  Validation Loss: {0:.2f}\".format(avg_val_loss))\n",
    "    print(\"  Validation took: {:}\".format(validation_time))\n",
    "    # Record all statistics from this epoch.\n",
    "    training_stats.append(\n",
    "        {\n",
    "            'epoch': epoch_i + 1,\n",
    "            'Training Loss': avg_train_loss,\n",
    "            'Valid. Loss': avg_val_loss,\n",
    "            'Valid. Accur.': avg_val_accuracy,\n",
    "            'Training Time': training_time,\n",
    "            'Validation Time': validation_time\n",
    "        }\n",
    "    )\n",
    "print(\"\")\n",
    "print(\"Training complete!\")\n",
    "print(\"Total training took {:} (h:mm:ss)\".format(format_time(time.time() - total_t0)))"
   ],
   "id": "b435771d00a81a78",
   "execution_count": 14,
   "outputs": []
  },
  {
   "metadata": {
    "ExecuteTime": {
     "end_time": "2024-06-15T08:43:50.473490Z",
     "start_time": "2024-06-15T08:43:50.453838Z"
    }
   },
   "cell_type": "code",
   "source": [
    "import pandas as pd\n",
    "# Display floats with two decimal places.\n",
    "pd.set_option('display.precision', 2)\n",
    "# Create a DataFrame from our training statistics.\n",
    "df_stats = pd.DataFrame(data=training_stats)\n",
    "# Use the 'epoch' as the row index.\n",
    "df_stats = df_stats.set_index('epoch')\n",
    "with open(source_path + \"comparative_data.txt\", 'a', encoding='utf-8') as cf:\n",
    "    cf.write(\"Fine-tuning stats:\\n\" + df_stats.to_string() + \"\\n\")\n",
    "# Display the table.\n",
    "df_stats"
   ],
   "id": "8fad65ef8ccef130",
   "execution_count": 15,
   "outputs": []
  },
  {
   "metadata": {
    "ExecuteTime": {
     "end_time": "2024-06-15T08:44:07.421462Z",
     "start_time": "2024-06-15T08:43:50.473490Z"
    }
   },
   "cell_type": "code",
   "source": [
    "import pandas as pd\n",
    "from trainingdata_preparation import tdp\n",
    "# Load the dataset into a pandas dataframe.\n",
    "df = pd.read_csv(source_path + \"testing_set.csv\", sep='\\t', encoding=\"utf-8\")\n",
    "# Report the number of sentences.\n",
    "print('Number of test sentences: {:,}\\n'.format(df.shape[0]))\n",
    "# Create sentence and label lists\n",
    "sentences = df.Comment.values\n",
    "labels = []\n",
    "for i in range(0, number_of_labels):\n",
    "    labels.append(i)\n",
    "with open(source_path + \"comparative_data.txt\", 'a', encoding='utf-8') as cf:\n",
    "    cf.write('Classification labels: {}\\n'.format(labels))\n",
    "# Tokenize all the sentences and map the tokens to their word IDs.\n",
    "input_ids = []\n",
    "attention_masks = []\n",
    "# For every sentence...\n",
    "for sent in sentences:\n",
    "    # `encode_plus` will:\n",
    "    #   (1) Tokenize the sentence.\n",
    "    #   (2) Prepend the `[CLS]` token to the start.\n",
    "    #   (3) Append the `[SEP]` token to the end.\n",
    "    #   (4) Map tokens to their IDs.\n",
    "    #   (5) Pad or truncate the sentence to `max_length`\n",
    "    #   (6) Create attention masks for [PAD] tokens.\n",
    "    encoded_dict = tokenizer.encode_plus(\n",
    "        str(sent),  # Sentence to encode.\n",
    "        add_special_tokens=True,  # Add '[CLS]' and '[SEP]'\n",
    "        max_length=max_len,  # Pad & truncate all sentences.\n",
    "        pad_to_max_length=True,\n",
    "        truncation=True,\n",
    "        return_attention_mask=True,  # Construct attn. masks.\n",
    "        return_tensors='pt',  # Return pytorch tensors.\n",
    "    )\n",
    "    # Add the encoded sentence to the list.    \n",
    "    input_ids.append(encoded_dict['input_ids'])\n",
    "    # And its attention mask (simply differentiates padding from non-padding).\n",
    "    attention_masks.append(encoded_dict['attention_mask'])\n",
    "# Convert the lists into tensors.\n",
    "input_ids = torch.cat(input_ids, dim=0)\n",
    "attention_masks = torch.cat(attention_masks, dim=0)\n",
    "labels = torch.tensor(labels)\n",
    "# Set the batch size.  \n",
    "batch_size = 32\n",
    "# Create the DataLoader.\n",
    "# prediction_data = TensorDataset(input_ids, attention_masks, labels)\n",
    "prediction_data = TensorDataset(input_ids, attention_masks)\n",
    "prediction_sampler = SequentialSampler(prediction_data)\n",
    "prediction_dataloader = DataLoader(prediction_data, sampler=prediction_sampler, batch_size=batch_size)\n",
    "# Prediction on test set\n",
    "print('Predicting labels for {:,} test sentences...'.format(len(input_ids)))\n",
    "# Put model in evaluation mode\n",
    "model.eval()\n",
    "# Tracking variables \n",
    "predictions, true_labels = [], []\n",
    "# Predict \n",
    "for batch in prediction_dataloader:\n",
    "    # Add batch to GPU\n",
    "    batch = tuple(t.to(device) for t in batch)\n",
    "    # Unpack the inputs from our dataloader\n",
    "    # b_input_ids, b_input_mask, b_labels = batch\n",
    "    b_input_ids, b_input_mask = batch\n",
    "    # Telling the model not to compute or store gradients, saving memory and \n",
    "    # speeding up prediction\n",
    "    with torch.no_grad():\n",
    "        # Forward pass, calculate logit predictions\n",
    "        outputs = model(b_input_ids, token_type_ids=None,\n",
    "                        attention_mask=b_input_mask)\n",
    "    logits = outputs[0]\n",
    "    # Move logits and labels to CPU\n",
    "    logits = logits.detach().cpu().numpy()\n",
    "    # label_ids = b_labels.to('cpu').numpy()\n",
    "    # Store predictions and true labels\n",
    "    predictions.append(logits)\n",
    "    # true_labels.append(label_ids)\n",
    "print('    DONE.')\n",
    "# Combine the results across all batches. \n",
    "flat_predictions = np.concatenate(predictions, axis=0)\n",
    "# For each sample, pick the label (0 or 1) with the higher score.\n",
    "flat_predictions = np.argmax(flat_predictions, axis=1).flatten()\n",
    "# adding to the main dataframe\n",
    "df['target'] = flat_predictions\n",
    "# downloading file to local\n",
    "df.to_csv(source_path + 'prediction.tsv', index=False, sep=\"\\t\")\n",
    "with open(source_path + \"comparative_data.txt\", 'a', encoding='utf-8') as cf:\n",
    "    cf.write(tdp.evaluation(source_path + 'testing_val_set.csv', source_path + \"prediction.tsv\", number_of_labels))"
   ],
   "id": "f3274efa3b6e0bff",
   "execution_count": 16,
   "outputs": []
  },
  {
   "metadata": {
    "ExecuteTime": {
     "end_time": "2024-06-15T08:44:08.157133Z",
     "start_time": "2024-06-15T08:44:07.421462Z"
    }
   },
   "cell_type": "code",
   "source": [
    "import os\n",
    "# Saving best-practices: if you use defaults names for the model, you can reload it using from_pretrained()\n",
    "# Create output directory if needed\n",
    "if not os.path.exists(output_path):\n",
    "    os.makedirs(output_path)\n",
    "print(\"Saving model to %s\" % output_path)\n",
    "# Save a trained model, configuration and tokenizer using `save_pretrained()`.\n",
    "# They can then be reloaded using `from_pretrained()`\n",
    "model_to_save = model.module if hasattr(model, 'module') else model  # Take care of distributed/parallel training\n",
    "model_to_save.save_pretrained(output_path)\n",
    "tokenizer.save_pretrained(output_path)"
   ],
   "id": "initial_id",
   "execution_count": 17,
   "outputs": []
  }
 ],
 "metadata": {
  "kernelspec": {
   "display_name": "Python (GPU)",
   "language": "python",
   "name": "gpu_env"
  },
  "language_info": {
   "codemirror_mode": {
    "name": "ipython",
    "version": 2
   },
   "file_extension": ".py",
   "mimetype": "text/x-python",
   "name": "python",
   "nbconvert_exporter": "python",
   "pygments_lexer": "ipython2",
   "version": "2.7.6"
  }
 },
 "nbformat": 4,
 "nbformat_minor": 5
}
